{
 "cells": [
  {
   "cell_type": "markdown",
   "metadata": {},
   "source": [
    "### Problem statement\n",
    "\n",
    "Singlife has observed a concerning trend in the customer journey: potential policyholders are expressing hesitation and eventual disengagement during the insurance acquisition process. To address this, Singlife seeks to leverage its dataset. The objective is to <font size=\"4\">**derive actionable insights from this data to enhance the customer experience**</font>. The challenge is to dissect the dataset to <font size=\"4\">**uncover the critical touchpoints that contribute to customer drop-off and identify opportunities to streamline the application process and personalize communication**</font>. The ultimate goal is to <font size=\"4\">**predict customer satisfaction and conversion rates, thereby bolstering Singlife's market position**</font>.\n"
   ]
  },
  {
   "cell_type": "markdown",
   "metadata": {},
   "source": [
    "### Code\n"
   ]
  },
  {
   "cell_type": "markdown",
   "metadata": {},
   "source": [
    "#### Import libraries and data\n"
   ]
  },
  {
   "cell_type": "code",
   "execution_count": 3,
   "metadata": {},
   "outputs": [
    {
     "name": "stdout",
     "output_type": "stream",
     "text": [
      "Current Working Directory: /Users/swislar/Desktop/data/Datathon\n"
     ]
    }
   ],
   "source": [
    "# %pip install pyarrow\n",
    "# %pip install scikit-learn\n",
    "import numpy as np\n",
    "import pandas as pd\n",
    "import matplotlib.pyplot as plt\n",
    "import seaborn as sns\n",
    "import tensorflow as tf\n",
    "from sklearn.impute import KNNImputer\n",
    "from sklearn.preprocessing import OrdinalEncoder, LabelEncoder\n",
    "from imblearn.over_sampling import SMOTE\n",
    "from sklearn.feature_selection import VarianceThreshold\n",
    "import pyarrow\n",
    "import os\n",
    "from datetime import datetime\n",
    "currWD = os.getcwd()\n",
    "print(\"Current Working Directory:\", currWD)\n",
    "# os.chdir(\"Set WD here\")\n",
    "filepath = \"./data/catB_train.parquet\"\n",
    "data = pd.read_parquet(filepath, engine='pyarrow')"
   ]
  },
  {
   "cell_type": "markdown",
   "metadata": {},
   "source": [
    "#### Data cleaning\n"
   ]
  },
  {
   "cell_type": "markdown",
   "metadata": {},
   "source": [
    "##### Summary of dataset\n"
   ]
  },
  {
   "cell_type": "markdown",
   "metadata": {},
   "source": [
    "<strong><h4>Potential useful variables</h4></strong>\n",
    "<strong><h5>1. General Client Information</h5></strong>\n",
    "\n",
    "1. `clntnum` (Identifier)\n",
    "2. `ctrycode_desc` (Nationality)\n",
    "3. `stat_flag` (Used to identify curent/ past clients)\n",
    "4. `min_occ_date`\n",
    "5. `cltdob_fix`\n",
    "6. `cltsex_fix` (Gender of client)\n",
    "7. `cltage` (Age of client)\n",
    "8. `cltage_start`\n",
    "9. `clt_ten` (Customer tenure) </br>\n",
    "\n",
    "<strong><h5>2. Client Risk and Status Indicators</h5></strong>\n",
    "\n",
    "1. `flg_substandard` (substandard risk clients)\n",
    "2. `flg_is_borderline_standard` (borderline standard risk clients)\n",
    "3. `flg_is_revised_term` (client revised terms)\n",
    "4. `flg_has_health_claim` (clients with health insurance claims)\n",
    "5. `flg_gi_claim` (clients with general insurance claims)\n",
    "6. `flg_is_proposal` (potential policy for client)\n",
    "\n",
    "<strong><h5>3. Client Consent and Communication Preferences</h5></strong>\n",
    "\n",
    "1. `is_consent_to_mail`, `is_consent_to_email`, `is_consent_to_call`, `is_consent_to_sms` (to find the best mode of communication)\n",
    "2. `is_valid_dm`, `is_valid_mail`\n",
    "\n",
    "<strong><h5>4. Demographic and Household Information</h5></strong>\n",
    "\n",
    "1. `is_dependent_in_at_least_1_policy` (dependancy on a policy)\n",
    "2. `annual_income_est` (estimated annual income)\n",
    "\n",
    "<strong><h5>5. Policy and claim history</h5></strong>\n",
    "\n",
    "1. `n_months_last_bought_products`, `flg_latest_being_lapse`, `flg_latest_being_cancel` (for determining potential client)\n",
    "2. `tot_inforce_pols`, `tot_cancel_pols` (history of policies purchased)\n",
    "3. `f_ever_declined_la` (rejected for policy)\n",
    "\n",
    "<strong><h5>6. Anonymized Insurance Product Metrics (APE, Sum Insured, Prepaid Premiums)</h5></strong>\n",
    "\n",
    "NA\n",
    "\n",
    "<strong><h5>7. Other Flags and Metrics</h5></strong>\n",
    "\n",
    "1. `f_elx`, `f_mindef_mha`, `f_retail` (working sector can also determine need for policy)\n",
    "\n",
    "<strong><h5>8. Purchase and Lapse Metrics for Specific Products</h5></strong>\n",
    "\n",
    "NA\n",
    "\n",
    "<strong><h5>9. Target Column</h5></strong>\n",
    "\n",
    "1. `f_purchase_lh` (Indicates if customer will purchase insurance in the next 3 months)\n"
   ]
  },
  {
   "cell_type": "code",
   "execution_count": 4,
   "metadata": {},
   "outputs": [
    {
     "name": "stdout",
     "output_type": "stream",
     "text": [
      "Columns with missing data: \n",
      " [('race_desc', 3996), ('ctrycode_desc', 20), ('cltsex_fix', 23), ('flg_substandard', 1014), ('flg_is_borderline_standard', 1014), ('flg_is_revised_term', 1014), ('flg_is_rental_flat', 1014), ('flg_has_health_claim', 1014), ('flg_has_life_claim', 1014), ('flg_gi_claim', 1014), ('flg_is_proposal', 1014), ('flg_with_preauthorisation', 1014), ('flg_is_returned_mail', 1014), ('is_consent_to_mail', 1014), ('is_consent_to_email', 1014), ('is_consent_to_call', 1014), ('is_consent_to_sms', 1014), ('is_valid_dm', 1014), ('is_valid_email', 1014), ('is_housewife_retiree', 1014), ('is_sg_pr', 1014), ('is_class_1_2', 1014), ('is_dependent_in_at_least_1_policy', 1014), ('f_ever_declined_la', 16759), ('hh_20', 2809), ('pop_20', 2809), ('hh_size', 2809), ('hh_size_est', 2809), ('annual_income_est', 2809), ('recency_lapse', 12592), ('recency_cancel', 17368), ('tot_cancel_pols', 17368), ('lapse_ape_ltc_1280bf', 12592), ('lapse_ape_grp_6fc3e6', 12592), ('lapse_ape_grp_de05ae', 12592), ('lapse_ape_inv_dcd836', 12592), ('lapse_ape_grp_945b5a', 12592), ('lapse_ape_grp_6a5788', 12592), ('lapse_ape_ltc_43b9d5', 12592), ('lapse_ape_grp_9cdedf', 12592), ('lapse_ape_lh_d0adeb', 12592), ('lapse_ape_grp_1581d7', 12592), ('lapse_ape_grp_22decf', 12592), ('lapse_ape_lh_507c37', 12592), ('lapse_ape_lh_839f8a', 12592), ('lapse_ape_inv_e9f316', 12592), ('lapse_ape_grp_caa6ff', 12592), ('lapse_ape_grp_fd3bfb', 12592), ('lapse_ape_lh_e22a6a', 12592), ('lapse_ape_grp_70e1dd', 12592), ('lapse_ape_grp_e04c3a', 12592), ('lapse_ape_grp_fe5fb8', 12592), ('lapse_ape_grp_94baec', 12592), ('lapse_ape_grp_e91421', 12592), ('lapse_ape_lh_f852af', 12592), ('lapse_ape_lh_947b15', 12592), ('lapse_ape_32c74c', 12592), ('n_months_since_lapse_ltc_1280bf', 12592), ('n_months_since_lapse_grp_6fc3e6', 12592), ('n_months_since_lapse_grp_de05ae', 12592), ('n_months_since_lapse_inv_dcd836', 12592), ('n_months_since_lapse_grp_945b5a', 12592), ('n_months_since_lapse_grp_6a5788', 12592), ('n_months_since_lapse_ltc_43b9d5', 12592), ('n_months_since_lapse_grp_9cdedf', 12592), ('n_months_since_lapse_lh_d0adeb', 12592), ('n_months_since_lapse_grp_1581d7', 12592), ('n_months_since_lapse_grp_22decf', 12592), ('n_months_since_lapse_lh_507c37', 12592), ('n_months_since_lapse_lh_839f8a', 12592), ('n_months_since_lapse_inv_e9f316', 12592), ('n_months_since_lapse_grp_caa6ff', 12592), ('n_months_since_lapse_grp_fd3bfb', 12592), ('n_months_since_lapse_lh_e22a6a', 12592), ('n_months_since_lapse_grp_70e1dd', 12592), ('n_months_since_lapse_grp_e04c3a', 12592), ('n_months_since_lapse_grp_fe5fb8', 12592), ('n_months_since_lapse_grp_94baec', 12592), ('n_months_since_lapse_grp_e91421', 12592), ('n_months_since_lapse_lh_f852af', 12592), ('n_months_since_lapse_lh_947b15', 12592), ('n_months_since_lapse_32c74c', 12592), ('flg_affconnect_show_interest_ever', 17497), ('flg_affconnect_ready_to_buy_ever', 17178), ('flg_affconnect_lapse_ever', 17178), ('affcon_visit_days', 17178), ('n_months_since_visit_affcon', 17178), ('clmcon_visit_days', 17203), ('recency_clmcon', 17203), ('recency_clmcon_regis', 17203), ('hlthclaim_amt', 16543), ('recency_hlthclaim', 16543), ('hlthclaim_cnt_success', 16715), ('recency_hlthclaim_success', 16715), ('hlthclaim_cnt_unsuccess', 17382), ('recency_hlthclaim_unsuccess', 17382), ('flg_hlthclaim_839f8a_ever', 17707), ('recency_hlthclaim_839f8a', 17707), ('flg_hlthclaim_14cb37_ever', 16617), ('recency_hlthclaim_14cb37', 16617), ('giclaim_amt', 17544), ('recency_giclaim', 17544), ('giclaim_cnt_success', 17992), ('recency_giclaim_success', 17992), ('giclaim_cnt_unsuccess', 17992), ('recency_giclaim_unsuccess', 17992), ('flg_gi_claim_29d435_ever', 17992), ('flg_gi_claim_058815_ever', 17992), ('flg_gi_claim_42e115_ever', 17992), ('flg_gi_claim_856320_ever', 17992), ('f_purchase_lh', 17282)]\n",
      "Number of columns with NA:  111\n",
      "[('min_occ_date', 10), ('cltdob_fix', 22)]\n",
      "Number of columns with None:  2\n"
     ]
    }
   ],
   "source": [
    "colNames = data.columns.to_list()\n",
    "colsWithNA = []\n",
    "colsWithNACount = []\n",
    "colsWithNone = []\n",
    "colsWithNoneCount = []\n",
    "for names in colNames:\n",
    "    containsNA = data[names].isna().any()\n",
    "    containsNone = data[names].map(lambda x: x == \"None\").sum()\n",
    "    if containsNA:\n",
    "        colsWithNA.append(names)\n",
    "        colsWithNACount.append(data[names].isna().sum())\n",
    "    if containsNone:\n",
    "        colsWithNone.append(names)\n",
    "        colsWithNoneCount.append(containsNone)\n",
    "print(\"Columns with missing data: \\n\", list(zip(colsWithNA, colsWithNACount)))\n",
    "print(\"Number of columns with NA: \", len(colsWithNA))\n",
    "print(list(zip(colsWithNone, colsWithNoneCount)))\n",
    "print(\"Number of columns with None: \", len(colsWithNone))"
   ]
  },
  {
   "cell_type": "markdown",
   "metadata": {},
   "source": [
    "##### General Client Information\n"
   ]
  },
  {
   "cell_type": "markdown",
   "metadata": {},
   "source": [
    "<strong>Important potential variables</strong>\n",
    "\n",
    "1. `clntnum` (Identifier)\n",
    "2. `ctrycode_desc` (Nationality)\n",
    "3. `stat_flag` (Used to identify curent/ past clients)\n",
    "4. `min_occ_date`\n",
    "5. `cltdob_fix`\n",
    "6. `cltsex_fix` (Gender of client)\n",
    "\n",
    "<strong>New variables</strong>\n",
    "\n",
    "1. `cltage` (Age of client)\n",
    "2. `cltage_start` (Age of policy occ)\n",
    "3. `clt_ten` (Customer tenure)\n"
   ]
  },
  {
   "cell_type": "code",
   "execution_count": 5,
   "metadata": {},
   "outputs": [
    {
     "name": "stdout",
     "output_type": "stream",
     "text": [
      "(17992, 18)\n"
     ]
    }
   ],
   "source": [
    "# Filtering columns\n",
    "columnNames = [\"clntnum\", \"ctrycode_desc\", \"stat_flag\", \"min_occ_date\", \"cltdob_fix\", \"cltsex_fix\",\n",
    "               \"flg_substandard\", \"flg_is_borderline_standard\", \"flg_is_revised_term\", \"flg_has_health_claim\", \"flg_gi_claim\", \"flg_is_proposal\",\n",
    "               \"is_dependent_in_at_least_1_policy\", \"annual_income_est\", \"tot_inforce_pols\", \"tot_cancel_pols\", \"f_ever_declined_la\",\n",
    "               \"f_purchase_lh\"]\n",
    "data = data.loc[:, columnNames]\n",
    "print(data.shape)\n",
    "# Filtering data to focus on Singaporeans\n",
    "cilentsByCountry = data[\"ctrycode_desc\"].value_counts()\n",
    "cilentsByCountry_Percentage = cilentsByCountry*100/sum(cilentsByCountry)\n",
    "pd.DataFrame(round(cilentsByCountry_Percentage, 5)\n",
    "             ).head(n=5).rename(columns={'ctrycode_desc': \"Percentage of clients by country\"})\n",
    "data = data[data[\"ctrycode_desc\"] == \"Singapore\"]"
   ]
  },
  {
   "cell_type": "markdown",
   "metadata": {},
   "source": [
    "Since our primary target audience are Singaporeans (98.98%), we will filter the data on `ctrycode_desc` based on the clients from Singapore. </br>\n",
    "\n",
    "Drops rows with incomplete age data in `cltdob_fix` and `min_occ_date` </br>\n",
    "Compute the current age of the client (`cltage`) using `cltdob_fix` </br>\n",
    "And the age the client is interested in the policy (`cltage_start`) using `min_occ_date` </br>\n"
   ]
  },
  {
   "cell_type": "code",
   "execution_count": 6,
   "metadata": {},
   "outputs": [],
   "source": [
    "# Drop rows with incomplete data for `cltdob_fix`\n",
    "data['cltdob_fix'] = data['cltdob_fix'].replace(\"None\", pd.NaT)\n",
    "data = data.dropna(subset=['cltdob_fix'])\n",
    "# Drop rows with incomplete data for `min_occ_date`\n",
    "data['min_occ_date'] = data['min_occ_date'].replace(\"None\", pd.NaT)\n",
    "data = data.dropna(subset=['min_occ_date'])\n",
    "\n",
    "# Convert cltdob_fix to datetime format and compute the client's age\n",
    "currentDate = datetime.now()\n",
    "data[\"cltdob_fix\"] = data[\"cltdob_fix\"].map(\n",
    "    lambda x: datetime.strptime(x, \"%Y-%m-%d\"))\n",
    "data[\"cltage\"] = round(data[\"cltdob_fix\"].map(lambda x: (\n",
    "    (currentDate - x).days/365.25)).astype(int))\n",
    "\n",
    "# Convert min_occ_date to datetime format and compute cltage_start\n",
    "data[\"min_occ_date\"] = data[\"min_occ_date\"].map(\n",
    "    lambda x: datetime.strptime(x, \"%Y-%m-%d\"))\n",
    "data[\"cltage_start\"] = (\n",
    "    (data[\"min_occ_date\"] - data[\"cltdob_fix\"]).dt.days/365.25).round().astype(int)\n",
    "\n",
    "# Computing the customer tenure\n",
    "data[\"clt_ten\"] = data[\"cltage\"] - data[\"cltage_start\"]"
   ]
  },
  {
   "cell_type": "markdown",
   "metadata": {},
   "source": [
    "<strong>Important potential variables</strong>\n",
    "\n",
    "1. `flg_substandard` (substandard risk clients)\n",
    "2. `flg_is_borderline_standard` (borderline standard risk clients)\n",
    "3. `flg_is_revised_term` (client revised terms)\n",
    "4. `flg_is_rental_flat` (indicates wealth of client)\n",
    "5. `flg_has_health_claim` (clients with health insurance claims)\n",
    "6. `flg_gi_claim` (clients with general insurance claims)\n",
    "7. `flg_is_proposal` (potential policy for client)\n"
   ]
  },
  {
   "cell_type": "code",
   "execution_count": 7,
   "metadata": {},
   "outputs": [
    {
     "data": {
      "text/plain": [
       "0.0    16758\n",
       "Name: is_dependent_in_at_least_1_policy, dtype: int64"
      ]
     },
     "execution_count": 7,
     "metadata": {},
     "output_type": "execute_result"
    }
   ],
   "source": [
    "data[\"is_dependent_in_at_least_1_policy\"].value_counts()"
   ]
  },
  {
   "cell_type": "markdown",
   "metadata": {},
   "source": [
    "#### Data Analysis\n"
   ]
  },
  {
   "cell_type": "markdown",
   "metadata": {},
   "source": [
    "(MIGHT NOT BE USED)</br>\n",
    "Splitting the data into 2 main groups,\n",
    "\n",
    "1. Those that we know their decision to the purchase of insurance policies (Group 1)\n",
    "2. Those that their decision is not known (Group 2)\n"
   ]
  },
  {
   "cell_type": "code",
   "execution_count": 8,
   "metadata": {},
   "outputs": [
    {
     "name": "stdout",
     "output_type": "stream",
     "text": [
      "18769    1.0\n",
      "2781     1.0\n",
      "19853    1.0\n",
      "14239    1.0\n",
      "18698    1.0\n",
      "        ... \n",
      "7574     1.0\n",
      "18141    1.0\n",
      "3561     1.0\n",
      "12206    1.0\n",
      "10627    1.0\n",
      "Name: f_purchase_lh, Length: 708, dtype: float64\n"
     ]
    }
   ],
   "source": [
    "predictDataIndex = np.where(data[\"f_purchase_lh\"].isna())\n",
    "completeDataIndex = np.where(~data[\"f_purchase_lh\"].isna())\n",
    "# Group 1\n",
    "completeData = data.iloc[completeDataIndex]\n",
    "# Group 2\n",
    "predictData = data.iloc[predictDataIndex]\n",
    "\n",
    "print(completeData[\"f_purchase_lh\"])"
   ]
  },
  {
   "cell_type": "markdown",
   "metadata": {},
   "source": [
    "##### Graph plots\n"
   ]
  },
  {
   "cell_type": "markdown",
   "metadata": {},
   "source": [
    "To keep clients in the policy programme, we can filter for clients based on:\n",
    "\n",
    "1. `f_purchase_lh` == NaN (Client not purchased insurance)\n",
    "2. `flg_gi_claim` == (0 or NaN) (Client without gi insurance)\n",
    "3. `flg_has_health_claim`== (0 or NaN) (Client without health insurance)\n",
    "\n",
    "and perform the analysis based on the clients:\n",
    "\n",
    "1. `cltage` - age\n",
    "2. `clt_ten` - age the customer viewed policies\n"
   ]
  },
  {
   "cell_type": "code",
   "execution_count": 9,
   "metadata": {},
   "outputs": [
    {
     "data": {
      "text/plain": [
       "(14862, 21)"
      ]
     },
     "execution_count": 9,
     "metadata": {},
     "output_type": "execute_result"
    }
   ],
   "source": [
    "dataset1 = data[data[\"f_purchase_lh\"].isna()]  # filter based on 1\n",
    "dataset1 = dataset1[(dataset1[\"flg_gi_claim\"] == 0 |\n",
    "                     dataset1[\"flg_gi_claim\"].isna())]  # filter based on 2\n",
    "dataset1 = dataset1[(dataset1[\"flg_has_health_claim\"] == 0 |\n",
    "                     dataset1[\"flg_has_health_claim\"].isna())]  # filter based on 3\n",
    "dataset1.shape"
   ]
  },
  {
   "cell_type": "code",
   "execution_count": 10,
   "metadata": {},
   "outputs": [
    {
     "data": {
      "image/png": "[encoded data removed]",
      "text/plain": [
       "<Figure size 640x480 with 1 Axes>"
      ]
     },
     "metadata": {},
     "output_type": "display_data"
    }
   ],
   "source": [
    "# RUBBISH PLOT\n",
    "plt.scatter(dataset1[\"cltage\"], dataset1[\"clt_ten\"], marker=\"o\", s=5)\n",
    "plt.xlabel(\"cltage\")\n",
    "plt.ylabel(\"clt_ten\")\n",
    "plt.title(\"clt_ten against cltage\")\n",
    "\n",
    "plt.show()\n",
    "\n",
    "# False data can be seen when clt_ten > cltage since they cannot be customers before 0 years old"
   ]
  },
  {
   "cell_type": "code",
   "execution_count": 11,
   "metadata": {},
   "outputs": [
    {
     "data": {
      "text/plain": [
       "19550     C.60K-100K\n",
       "4600       D.30K-60K\n",
       "13337    A.ABOVE200K\n",
       "15074    B.100K-200K\n",
       "19724     E.BELOW30K\n",
       "Name: annual_income_est, dtype: object"
      ]
     },
     "execution_count": 11,
     "metadata": {},
     "output_type": "execute_result"
    }
   ],
   "source": [
    "dataset1[\"annual_income_est\"].head()"
   ]
  },
  {
   "cell_type": "code",
   "execution_count": 14,
   "metadata": {},
   "outputs": [
    {
     "name": "stdout",
     "output_type": "stream",
     "text": [
      "21\n"
     ]
    },
    {
     "data": {
      "text/plain": [
       "Index(['clntnum', 'ctrycode_desc', 'stat_flag', 'min_occ_date', 'cltdob_fix',\n",
       "       'cltsex_fix', 'flg_substandard', 'flg_is_borderline_standard',\n",
       "       'flg_is_revised_term', 'flg_has_health_claim', 'flg_gi_claim',\n",
       "       'flg_is_proposal', 'is_dependent_in_at_least_1_policy',\n",
       "       'annual_income_est', 'tot_inforce_pols', 'tot_cancel_pols',\n",
       "       'f_ever_declined_la', 'f_purchase_lh', 'cltage', 'cltage_start',\n",
       "       'clt_ten'],\n",
       "      dtype='object')"
      ]
     },
     "execution_count": 14,
     "metadata": {},
     "output_type": "execute_result"
    }
   ],
   "source": [
    "print(dataset1.columns.size)\n",
    "dataset1.columns"
   ]
  },
  {
   "cell_type": "markdown",
   "metadata": {},
   "source": []
  },
  {
   "cell_type": "markdown",
   "metadata": {},
   "source": [
    "To improve the efficiency in registration and communication,\n"
   ]
  },
  {
   "cell_type": "markdown",
   "metadata": {},
   "source": [
    "To increase the satisfaction of the customers and keep them in the programme, we need to determine the most effective method of communication with the clients\n"
   ]
  }
 ],
 "metadata": {
  "kernelspec": {
   "display_name": "Python 3",
   "language": "python",
   "name": "python3"
  },
  "language_info": {
   "codemirror_mode": {
    "name": "ipython",
    "version": 3
   },
   "file_extension": ".py",
   "mimetype": "text/x-python",
   "name": "python",
   "nbconvert_exporter": "python",
   "pygments_lexer": "ipython3",
   "version": "3.10.8"
  }
 },
 "nbformat": 4,
 "nbformat_minor": 2
}
