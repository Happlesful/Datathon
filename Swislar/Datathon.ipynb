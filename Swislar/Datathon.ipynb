{
 "cells": [
  {
   "cell_type": "markdown",
   "metadata": {},
   "source": [
    "# Introduction\n"
   ]
  },
  {
   "cell_type": "markdown",
   "metadata": {},
   "source": [
    "## Problem statement\n"
   ]
  },
  {
   "cell_type": "markdown",
   "metadata": {},
   "source": [
    "Singlife has observed a concerning trend in the customer journey: potential policyholders are expressing hesitation and eventual disengagement during the insurance acquisition process. To address this, Singlife seeks to leverage its dataset. The objective is to <font size=\"4\">**derive actionable insights from this data to enhance the customer experience**</font>. The challenge is to dissect the dataset to <font size=\"4\">**uncover the critical touchpoints that contribute to customer drop-off and identify opportunities to streamline the application process and personalize communication**</font>. The ultimate goal is to <font size=\"4\">**predict customer satisfaction and conversion rates, thereby bolstering Singlife's market position**</font>.\n"
   ]
  },
  {
   "cell_type": "markdown",
   "metadata": {},
   "source": [
    "## Selected variables\n"
   ]
  },
  {
   "cell_type": "markdown",
   "metadata": {},
   "source": [
    "<strong><h5>1. General Client Information</h5></strong>\n",
    "\n",
    "1. `clntnum`\n",
    "2. `ctrycode_desc`\n",
    "3. `stat_flag`\n",
    "4. `min_occ_date`\n",
    "5. `cltdob_fix`\n",
    "6. `cltsex_fix`\n",
    "7. `cltage` (Age of client)\n",
    "8. `clt_ten` (Customer tenure)\n",
    "\n",
    "<strong><h5>2. Client Risk and Status Indicators</h5></strong>\n",
    "\n",
    "1. `flg_substandard`\n",
    "2. `flg_is_borderline_standard`\n",
    "3. `flg_is_revised_term`\n",
    "4. `flg_has_health_claim`\n",
    "5. `flg_gi_claim`\n",
    "6. `flg_is_proposal`\n",
    "\n",
    "<strong><h5>3. Demographic and Household Information</h5></strong>\n",
    "\n",
    "1. `is_dependent_in_at_least_1_policy`\n",
    "2. `annual_income_est`\n",
    "\n",
    "<strong><h5>4. Policy and claim history</h5></strong>\n",
    "\n",
    "1. `tot_inforce_pols`, `tot_cancel_pols`\n",
    "2. `f_ever_declined_la`\n",
    "\n",
    "<strong><h5>5. Target Column</h5></strong>\n",
    "\n",
    "1. `f_purchase_lh` (Indicates if customer will purchase insurance in the next 3 months)\n"
   ]
  },
  {
   "cell_type": "markdown",
   "metadata": {},
   "source": [
    "# Code\n"
   ]
  },
  {
   "cell_type": "markdown",
   "metadata": {},
   "source": [
    "## Data cleaning\n"
   ]
  },
  {
   "cell_type": "code",
   "execution_count": 250,
   "metadata": {},
   "outputs": [
    {
     "name": "stdout",
     "output_type": "stream",
     "text": [
      "Current Working Directory: /Users/swislar/Desktop\n"
     ]
    }
   ],
   "source": [
    "# %pip install pyarrow\n",
    "# %pip install scikit-learn\n",
    "import numpy as np\n",
    "import pandas as pd\n",
    "import matplotlib.pyplot as plt\n",
    "import seaborn as sns\n",
    "import tensorflow as tf\n",
    "from sklearn.impute import KNNImputer\n",
    "from sklearn.preprocessing import OrdinalEncoder, LabelEncoder\n",
    "from imblearn.over_sampling import SMOTE\n",
    "from sklearn.feature_selection import VarianceThreshold\n",
    "from statsmodels.graphics.mosaicplot import mosaic\n",
    "import pyarrow\n",
    "import os\n",
    "from datetime import datetime\n",
    "currWD = os.getcwd()\n",
    "print(\"Current Working Directory:\", currWD)\n",
    "# os.chdir(\"Set WD here\")\n",
    "os.chdir(\"/Users/swislar/Desktop\")\n",
    "filepath = \"./data/catB_train.parquet\"\n",
    "data = pd.read_parquet(filepath, engine='pyarrow')"
   ]
  },
  {
   "cell_type": "code",
   "execution_count": 251,
   "metadata": {},
   "outputs": [],
   "source": [
    "# Adding cltage and clt_ten cols\n",
    "# Drop rows with incomplete data for `cltdob_fix`\n",
    "data['cltdob_fix'] = data['cltdob_fix'].replace(\"None\", pd.NaT)\n",
    "cltdob_rows = data[data['cltdob_fix'].isna()]\n",
    "data = data.dropna(subset=['cltdob_fix'])\n",
    "# Drop rows with incomplete data for `min_occ_date`\n",
    "data['min_occ_date'] = data['min_occ_date'].replace(\"None\", pd.NaT)\n",
    "occDate_rows = data[data['min_occ_date'].isna()]\n",
    "data = data.dropna(subset=['min_occ_date'])\n",
    "\n",
    "# Convert cltdob_fix to datetime format and compute the client's age\n",
    "currentDate = datetime.now()\n",
    "data[\"cltdob_fix\"] = data[\"cltdob_fix\"].map(\n",
    "    lambda x: datetime.strptime(x, \"%Y-%m-%d\"))\n",
    "data[\"cltage\"] = data[\"cltdob_fix\"].map(\n",
    "    lambda x: ((currentDate - x).days/365.25))\n",
    "# Convert min_occ_date to datetime format and compute cltage_start\n",
    "data[\"min_occ_date\"] = data[\"min_occ_date\"].map(\n",
    "    lambda x: datetime.strptime(x, \"%Y-%m-%d\"))\n",
    "data[\"cltage_start\"] = (\n",
    "    (data[\"min_occ_date\"] - data[\"cltdob_fix\"]).dt.days/365.25).round().astype(int)\n",
    "\n",
    "# Computing the customer tenure\n",
    "data[\"clt_ten\"] = data[\"cltage\"] - data[\"cltage_start\"]\n",
    "# Adding back NA rows\n",
    "data = pd.concat([data, cltdob_rows, occDate_rows], axis=0)\n",
    "# Coverting NA to 0 for \"f_purchase_lh\" col\n",
    "data[\"f_purchase_lh\"] = np.where(data[\"f_purchase_lh\"].isna(), 0, 1)\n",
    "# Coverting NA to 0 for \"is_dependent_in_at_least_1_policy\" col\n",
    "data[\"is_dependent_in_at_least_1_policy\"] = np.where(\n",
    "    data[\"is_dependent_in_at_least_1_policy\"].isna(), 0, 1)\n",
    "# Filtering columns\n",
    "columnNames = [\"clntnum\", \"ctrycode_desc\", \"stat_flag\", \"min_occ_date\", \"cltdob_fix\", \"cltsex_fix\", \"cltage\", \"clt_ten\",\n",
    "               \"flg_substandard\", \"flg_is_borderline_standard\", \"flg_is_revised_term\", \"flg_has_health_claim\", \"flg_gi_claim\", \"flg_is_proposal\",\n",
    "               \"is_dependent_in_at_least_1_policy\", \"annual_income_est\", \"tot_inforce_pols\", \"tot_cancel_pols\", \"f_ever_declined_la\",\n",
    "               \"f_purchase_lh\"]\n",
    "data = data.loc[:, columnNames]"
   ]
  },
  {
   "cell_type": "markdown",
   "metadata": {},
   "source": [
    "## Data Analysis\n"
   ]
  },
  {
   "cell_type": "code",
   "execution_count": 252,
   "metadata": {},
   "outputs": [],
   "source": [
    "# Filtering for the identified columns\n",
    "colNames_set_1 = [\"flg_has_health_claim\", \"flg_gi_claim\", \"is_dependent_in_at_least_1_policy\",\n",
    "                  \"tot_inforce_pols\", \"annual_income_est\", \"f_purchase_lh\", \"tot_cancel_pols\", \"cltage\", \"clt_ten\"]\n",
    "data_set_1 = data.loc[:, colNames_set_1]\n",
    "\n",
    "# Perform imputation for missing data\n",
    "label_encoder = LabelEncoder()\n",
    "data_set_1['annual_income_est'] = label_encoder.fit_transform(\n",
    "    data_set_1['annual_income_est'])\n",
    "imputer = KNNImputer(n_neighbors=50)\n",
    "imputed_data_set_1 = imputer.fit_transform(data_set_1)\n",
    "data_set_1 = pd.DataFrame(imputed_data_set_1, columns=data_set_1.columns)"
   ]
  },
  {
   "cell_type": "code",
   "execution_count": 253,
   "metadata": {},
   "outputs": [
    {
     "name": "stdout",
     "output_type": "stream",
     "text": [
      "Levels:\n",
      "0.0 A.ABOVE200K\n",
      "1.0 B.100K-200K\n",
      "2.0 C.60K-100K\n",
      "3.0 D.30K-60K\n",
      "4.0 E.BELOW30K\n",
      "5.0 None\n"
     ]
    }
   ],
   "source": [
    "itemDict = {}\n",
    "\n",
    "for category, encoded_value in zip(data['annual_income_est'], data_set_1['annual_income_est']):\n",
    "    newItem = f\"{encoded_value} {category}\"\n",
    "    if newItem not in itemDict:\n",
    "        itemDict[newItem] = 0\n",
    "\n",
    "print(\"Levels:\")\n",
    "for x in sorted(list(itemDict)):\n",
    "    print(x)"
   ]
  },
  {
   "cell_type": "code",
   "execution_count": 254,
   "metadata": {},
   "outputs": [],
   "source": [
    "# Clean up data from imputer\n",
    "data_set_1[\"flg_has_health_claim\"] = np.where(\n",
    "    data_set_1[\"flg_has_health_claim\"] < 0.5, 0, 1)\n",
    "\n",
    "data_set_1[\"flg_gi_claim\"] = np.where(\n",
    "    data_set_1[\"flg_gi_claim\"] < 0.5, 0, 1)\n",
    "\n",
    "data_set_1[\"tot_inforce_pols\"] = data_set_1[\"tot_inforce_pols\"].astype(int)\n",
    "\n",
    "data_set_1[\"is_dependent_in_at_least_1_policy\"] = np.where(\n",
    "    data_set_1[\"is_dependent_in_at_least_1_policy\"] < 0.5, 0, 1)\n",
    "\n",
    "data_set_1[\"annual_income_est\"] = pd.Categorical(\n",
    "    data_set_1[\"annual_income_est\"].map({\n",
    "        0: \"Below 30K\",\n",
    "        1: \"60K-100K\",\n",
    "        2: \"Above 200K\",\n",
    "        3: \"30K-60K\",\n",
    "        4: \"100K-200K\",\n",
    "    }),\n",
    "    categories=[\"Below 30K\", \"30K-60K\", \"60K-100K\", \"100K-200K\", \"Above 200K\"],\n",
    "    ordered=True\n",
    ")\n",
    "\n",
    "data_set_1[\"f_purchase_lh\"] = np.where(\n",
    "    data_set_1[\"f_purchase_lh\"] < 0.5, 0, 1)\n",
    "\n",
    "data_set_1[\"tot_cancel_pols\"] = data_set_1[\"tot_cancel_pols\"].astype(int)\n",
    "\n",
    "data_set_1[\"cltage\"] = data_set_1[\"cltage\"].astype(int)"
   ]
  },
  {
   "cell_type": "code",
   "execution_count": 255,
   "metadata": {},
   "outputs": [
    {
     "name": "stderr",
     "output_type": "stream",
     "text": [
      "/var/folders/lj/tfjxb4wd4kx1kwshmxnt57840000gn/T/ipykernel_63781/3625832636.py:2: FutureWarning: The default value of numeric_only in DataFrame.corr is deprecated. In a future version, it will default to False. Select only valid columns or specify the value of numeric_only to silence this warning.\n",
      "  data_set_1.corr()\n"
     ]
    },
    {
     "data": {
      "text/html": [
       "<div>\n",
       "<style scoped>\n",
       "    .dataframe tbody tr th:only-of-type {\n",
       "        vertical-align: middle;\n",
       "    }\n",
       "\n",
       "    .dataframe tbody tr th {\n",
       "        vertical-align: top;\n",
       "    }\n",
       "\n",
       "    .dataframe thead th {\n",
       "        text-align: right;\n",
       "    }\n",
       "</style>\n",
       "<table border=\"1\" class=\"dataframe\">\n",
       "  <thead>\n",
       "    <tr style=\"text-align: right;\">\n",
       "      <th></th>\n",
       "      <th>flg_has_health_claim</th>\n",
       "      <th>flg_gi_claim</th>\n",
       "      <th>is_dependent_in_at_least_1_policy</th>\n",
       "      <th>tot_inforce_pols</th>\n",
       "      <th>f_purchase_lh</th>\n",
       "      <th>tot_cancel_pols</th>\n",
       "      <th>cltage</th>\n",
       "      <th>clt_ten</th>\n",
       "    </tr>\n",
       "  </thead>\n",
       "  <tbody>\n",
       "    <tr>\n",
       "      <th>flg_has_health_claim</th>\n",
       "      <td>1.000000</td>\n",
       "      <td>0.021291</td>\n",
       "      <td>0.053676</td>\n",
       "      <td>0.109816</td>\n",
       "      <td>0.016793</td>\n",
       "      <td>0.010734</td>\n",
       "      <td>0.151784</td>\n",
       "      <td>0.156719</td>\n",
       "    </tr>\n",
       "    <tr>\n",
       "      <th>flg_gi_claim</th>\n",
       "      <td>0.021291</td>\n",
       "      <td>1.000000</td>\n",
       "      <td>0.044004</td>\n",
       "      <td>0.138151</td>\n",
       "      <td>0.141924</td>\n",
       "      <td>0.137987</td>\n",
       "      <td>-0.002207</td>\n",
       "      <td>0.086519</td>\n",
       "    </tr>\n",
       "    <tr>\n",
       "      <th>is_dependent_in_at_least_1_policy</th>\n",
       "      <td>0.053676</td>\n",
       "      <td>0.044004</td>\n",
       "      <td>1.000000</td>\n",
       "      <td>0.035924</td>\n",
       "      <td>0.037155</td>\n",
       "      <td>0.011653</td>\n",
       "      <td>0.073756</td>\n",
       "      <td>0.149956</td>\n",
       "    </tr>\n",
       "    <tr>\n",
       "      <th>tot_inforce_pols</th>\n",
       "      <td>0.109816</td>\n",
       "      <td>0.138151</td>\n",
       "      <td>0.035924</td>\n",
       "      <td>1.000000</td>\n",
       "      <td>0.091541</td>\n",
       "      <td>0.085170</td>\n",
       "      <td>-0.073105</td>\n",
       "      <td>0.167018</td>\n",
       "    </tr>\n",
       "    <tr>\n",
       "      <th>f_purchase_lh</th>\n",
       "      <td>0.016793</td>\n",
       "      <td>0.141924</td>\n",
       "      <td>0.037155</td>\n",
       "      <td>0.091541</td>\n",
       "      <td>1.000000</td>\n",
       "      <td>0.030782</td>\n",
       "      <td>-0.039721</td>\n",
       "      <td>0.032755</td>\n",
       "    </tr>\n",
       "    <tr>\n",
       "      <th>tot_cancel_pols</th>\n",
       "      <td>0.010734</td>\n",
       "      <td>0.137987</td>\n",
       "      <td>0.011653</td>\n",
       "      <td>0.085170</td>\n",
       "      <td>0.030782</td>\n",
       "      <td>1.000000</td>\n",
       "      <td>0.009658</td>\n",
       "      <td>0.046551</td>\n",
       "    </tr>\n",
       "    <tr>\n",
       "      <th>cltage</th>\n",
       "      <td>0.151784</td>\n",
       "      <td>-0.002207</td>\n",
       "      <td>0.073756</td>\n",
       "      <td>-0.073105</td>\n",
       "      <td>-0.039721</td>\n",
       "      <td>0.009658</td>\n",
       "      <td>1.000000</td>\n",
       "      <td>0.390371</td>\n",
       "    </tr>\n",
       "    <tr>\n",
       "      <th>clt_ten</th>\n",
       "      <td>0.156719</td>\n",
       "      <td>0.086519</td>\n",
       "      <td>0.149956</td>\n",
       "      <td>0.167018</td>\n",
       "      <td>0.032755</td>\n",
       "      <td>0.046551</td>\n",
       "      <td>0.390371</td>\n",
       "      <td>1.000000</td>\n",
       "    </tr>\n",
       "  </tbody>\n",
       "</table>\n",
       "</div>"
      ],
      "text/plain": [
       "                                   flg_has_health_claim  flg_gi_claim  \\\n",
       "flg_has_health_claim                           1.000000      0.021291   \n",
       "flg_gi_claim                                   0.021291      1.000000   \n",
       "is_dependent_in_at_least_1_policy              0.053676      0.044004   \n",
       "tot_inforce_pols                               0.109816      0.138151   \n",
       "f_purchase_lh                                  0.016793      0.141924   \n",
       "tot_cancel_pols                                0.010734      0.137987   \n",
       "cltage                                         0.151784     -0.002207   \n",
       "clt_ten                                        0.156719      0.086519   \n",
       "\n",
       "                                   is_dependent_in_at_least_1_policy  \\\n",
       "flg_has_health_claim                                        0.053676   \n",
       "flg_gi_claim                                                0.044004   \n",
       "is_dependent_in_at_least_1_policy                           1.000000   \n",
       "tot_inforce_pols                                            0.035924   \n",
       "f_purchase_lh                                               0.037155   \n",
       "tot_cancel_pols                                             0.011653   \n",
       "cltage                                                      0.073756   \n",
       "clt_ten                                                     0.149956   \n",
       "\n",
       "                                   tot_inforce_pols  f_purchase_lh  \\\n",
       "flg_has_health_claim                       0.109816       0.016793   \n",
       "flg_gi_claim                               0.138151       0.141924   \n",
       "is_dependent_in_at_least_1_policy          0.035924       0.037155   \n",
       "tot_inforce_pols                           1.000000       0.091541   \n",
       "f_purchase_lh                              0.091541       1.000000   \n",
       "tot_cancel_pols                            0.085170       0.030782   \n",
       "cltage                                    -0.073105      -0.039721   \n",
       "clt_ten                                    0.167018       0.032755   \n",
       "\n",
       "                                   tot_cancel_pols    cltage   clt_ten  \n",
       "flg_has_health_claim                      0.010734  0.151784  0.156719  \n",
       "flg_gi_claim                              0.137987 -0.002207  0.086519  \n",
       "is_dependent_in_at_least_1_policy         0.011653  0.073756  0.149956  \n",
       "tot_inforce_pols                          0.085170 -0.073105  0.167018  \n",
       "f_purchase_lh                             0.030782 -0.039721  0.032755  \n",
       "tot_cancel_pols                           1.000000  0.009658  0.046551  \n",
       "cltage                                    0.009658  1.000000  0.390371  \n",
       "clt_ten                                   0.046551  0.390371  1.000000  "
      ]
     },
     "execution_count": 255,
     "metadata": {},
     "output_type": "execute_result"
    }
   ],
   "source": [
    "# Obtaining the correlation between the variables\n",
    "data_set_1.corr()"
   ]
  },
  {
   "cell_type": "code",
   "execution_count": 256,
   "metadata": {},
   "outputs": [
    {
     "name": "stderr",
     "output_type": "stream",
     "text": [
      "/var/folders/lj/tfjxb4wd4kx1kwshmxnt57840000gn/T/ipykernel_63781/1316941728.py:3: FutureWarning: \n",
      "\n",
      "`shade` is now deprecated in favor of `fill`; setting `fill=True`.\n",
      "This will become an error in seaborn v0.14.0; please update your code.\n",
      "\n",
      "  sns.kdeplot(x=data_set_1[\"cltage\"],\n"
     ]
    },
    {
     "data": {
      "image/png": "[encoded data removed]",
      "text/plain": [
       "<Figure size 640x480 with 1 Axes>"
      ]
     },
     "metadata": {},
     "output_type": "display_data"
    }
   ],
   "source": [
    "# Density Plot of Number of policies against Age\n",
    "sns.set(style=\"whitegrid\")\n",
    "sns.kdeplot(x=data_set_1[\"cltage\"],\n",
    "            y=data_set_1[\"tot_inforce_pols\"], shade=True, color=\"skyblue\")\n",
    "plt.xlim(0, 100)\n",
    "plt.ylim(0, 12)\n",
    "plt.xlabel(\"Age of Client\")\n",
    "plt.ylabel(\"Number of policies in force\")\n",
    "plt.title(\"Density Plot of Number of policies against Age\")\n",
    "plt.show()"
   ]
  },
  {
   "cell_type": "markdown",
   "metadata": {},
   "source": [
    "From the density plot, we can observe that a large concentration of clients belong to the 40-60 years old age group and they mostly have only 1 policy in force\n"
   ]
  },
  {
   "cell_type": "code",
   "execution_count": 265,
   "metadata": {},
   "outputs": [
    {
     "data": {
      "image/png": "[encoded data removed]",
      "text/plain": [
       "<Figure size 640x480 with 1 Axes>"
      ]
     },
     "metadata": {},
     "output_type": "display_data"
    }
   ],
   "source": [
    "# Bar plot of Client count based on income\n",
    "percentageIncome = data_set_1['annual_income_est'].value_counts(\n",
    "    normalize=True) * 100\n",
    "\n",
    "sns.barplot(x=percentageIncome.index, y=percentageIncome.values)\n",
    "\n",
    "plt.xlabel('Annual Income')\n",
    "plt.ylabel('Percentage (%)')\n",
    "plt.title('Percentage Distribution Client by Annual Income')\n",
    "plt.show()"
   ]
  },
  {
   "cell_type": "markdown",
   "metadata": {},
   "source": [
    "As we can see from the bar plot, A large majority of clients also belong to the 100k to 200k income group. Therefore, it might be easier to convert and persuade clients from this income range who are between 40 to 60 years old to sign up for a policy.\n"
   ]
  },
  {
   "cell_type": "code",
   "execution_count": 263,
   "metadata": {},
   "outputs": [
    {
     "data": {
      "text/plain": [
       " 3    7771\n",
       "-1    2809\n",
       " 4    2679\n",
       " 0    2097\n",
       " 1    1911\n",
       " 2     725\n",
       "Name: annual_income_codes, dtype: int64"
      ]
     },
     "execution_count": 263,
     "metadata": {},
     "output_type": "execute_result"
    }
   ],
   "source": [
    "data_set_1['annual_income_codes'].value_counts()"
   ]
  },
  {
   "cell_type": "code",
   "execution_count": 273,
   "metadata": {},
   "outputs": [
    {
     "data": {
      "image/png": "[encoded data removed]",
      "text/plain": [
       "<Figure size 640x480 with 1 Axes>"
      ]
     },
     "metadata": {},
     "output_type": "display_data"
    }
   ],
   "source": [
    "sum_by_income_group = data_set_1.groupby('annual_income_est')[\n",
    "    'tot_cancel_pols'].sum()\n",
    "\n",
    "# Plot the result as a bar plot\n",
    "sum_by_income_group.plot(kind='bar')\n",
    "\n",
    "# Customize plot labels and title\n",
    "plt.xlabel('Annual Income Group')\n",
    "plt.ylabel('Total Canceled Policies')\n",
    "plt.title('Total Canceled Policies by Annual Income Group')\n",
    "plt.xticks(rotation=0)\n",
    "\n",
    "plt.show()"
   ]
  },
  {
   "cell_type": "markdown",
   "metadata": {},
   "source": [
    "Although a large number of clients belong to the 100k to 200k annual income group, they also have the highest cancellation count. To investigate further, we can visualise the cancellation rate per income group.\n"
   ]
  },
  {
   "cell_type": "code",
   "execution_count": 282,
   "metadata": {},
   "outputs": [
    {
     "name": "stdout",
     "output_type": "stream",
     "text": [
      "Below 30K     1.020982\n",
      "30K-60K       1.006279\n",
      "60K-100K      1.011034\n",
      "100K-200K     1.005919\n",
      "Above 200K    1.008585\n",
      "dtype: float64\n"
     ]
    }
   ],
   "source": [
    "\n",
    "# Rate of Policy Cancellation by Income Group\n",
    "cilentCountByIncome = data_set_1['annual_income_est'].value_counts()\n",
    "cancellationSum_by_income_group = data_set_1.groupby('annual_income_est')[\n",
    "    'tot_cancel_pols'].sum()\n",
    "\n",
    "cancellation_rate_by_income = (\n",
    "    cancellationSum_by_income_group / cilentCountByIncome)\n",
    "\n",
    "print(cancellation_rate_by_income)"
   ]
  },
  {
   "cell_type": "markdown",
   "metadata": {},
   "source": [
    "As seen from the table, the cancellation rate between all income groups are seen to be approximately the same. This means that it would be better to find clients that belong to the 100k to 200k income group and are between 40 to 60 years old as they are more likely to sign up for the policy.\n"
   ]
  },
  {
   "cell_type": "code",
   "execution_count": null,
   "metadata": {},
   "outputs": [],
   "source": []
  }
 ],
 "metadata": {
  "kernelspec": {
   "display_name": "Python 3",
   "language": "python",
   "name": "python3"
  },
  "language_info": {
   "codemirror_mode": {
    "name": "ipython",
    "version": 3
   },
   "file_extension": ".py",
   "mimetype": "text/x-python",
   "name": "python",
   "nbconvert_exporter": "python",
   "pygments_lexer": "ipython3",
   "version": "3.10.8"
  }
 },
 "nbformat": 4,
 "nbformat_minor": 2
}
