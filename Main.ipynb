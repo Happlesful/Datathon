{
 "cells": [
  {
   "cell_type": "markdown",
   "metadata": {},
   "source": [
    "# Introduction\n"
   ]
  },
  {
   "cell_type": "markdown",
   "metadata": {},
   "source": [
    "## Problem statement\n",
    "\n",
    "Singlife has observed a concerning trend in the customer journey: potential policyholders are expressing hesitation and eventual disengagement during the insurance acquisition process. To address this, Singlife seeks to leverage its dataset. The objective is to <font size=\"4\">**derive actionable insights from this data to enhance the customer experience**</font>. The challenge is to dissect the dataset to <font size=\"4\">**uncover the critical touchpoints that contribute to customer drop-off and identify opportunities to streamline the application process and personalize communication**</font>. The ultimate goal is to <font size=\"4\">**predict customer satisfaction and conversion rates, thereby bolstering Singlife's market position**</font>.\n"
   ]
  },
  {
   "cell_type": "markdown",
   "metadata": {},
   "source": [
    "## Selected variables\n",
    "\n",
    "<strong><h5>1. General Client Information</h5></strong>\n",
    "\n",
    "1. `clntnum`\n",
    "2. `ctrycode_desc`\n",
    "3. `stat_flag`\n",
    "4. `min_occ_date`\n",
    "5. `cltdob_fix`\n",
    "6. `cltsex_fix`\n",
    "7. `cltage` (Age of client)\n",
    "8. `clt_ten` (Customer tenure)\n",
    "\n",
    "<strong><h5>2. Client Risk and Status Indicators</h5></strong>\n",
    "\n",
    "1. `flg_substandard`\n",
    "2. `flg_is_borderline_standard`\n",
    "3. `flg_is_revised_term`\n",
    "4. `flg_has_health_claim`\n",
    "5. `flg_gi_claim`\n",
    "6. `flg_is_proposal`\n",
    "\n",
    "<strong><h5>3. Demographic and Household Information</h5></strong>\n",
    "\n",
    "1. `is_dependent_in_at_least_1_policy`\n",
    "2. `annual_income_est`\n",
    "\n",
    "<strong><h5>4. Policy and claim history</h5></strong>\n",
    "\n",
    "1. `tot_inforce_pols`, `tot_cancel_pols`\n",
    "2. `f_ever_declined_la`\n",
    "\n",
    "<strong><h5>5. Target Column</h5></strong>\n",
    "\n",
    "1. `f_purchase_lh` (Indicates if customer will purchase insurance in the next 3 months)\n"
   ]
  },
  {
   "cell_type": "code",
   "execution_count": null,
   "metadata": {},
   "outputs": [
    {
     "name": "stdout",
     "output_type": "stream",
     "text": [
      "(17992, 18)\n"
     ]
    }
   ],
   "source": [
    "# Filtering columns\n",
    "columnNames = [\"clntnum\", \"ctrycode_desc\", \"stat_flag\", \"min_occ_date\", \"cltdob_fix\", \"cltsex_fix\",\n",
    "               \"flg_substandard\", \"flg_is_borderline_standard\", \"flg_is_revised_term\", \"flg_has_health_claim\", \"flg_gi_claim\", \"flg_is_proposal\",\n",
    "               \"is_dependent_in_at_least_1_policy\", \"annual_income_est\", \"tot_inforce_pols\", \"tot_cancel_pols\", \"f_ever_declined_la\",\n",
    "               \"f_purchase_lh\"]\n",
    "data = data.loc[:, columnNames]\n",
    "print(data.shape)\n",
    "# Filtering data to focus on Singaporeans\n",
    "cilentsByCountry = data[\"ctrycode_desc\"].value_counts()\n",
    "cilentsByCountry_Percentage = cilentsByCountry*100/sum(cilentsByCountry)\n",
    "pd.DataFrame(round(cilentsByCountry_Percentage, 5)\n",
    "             ).head(n=5).rename(columns={'ctrycode_desc': \"Percentage of clients by country\"})\n",
    "data = data[data[\"ctrycode_desc\"] == \"Singapore\"]"
   ]
  }
 ],
 "metadata": {
  "language_info": {
   "name": "python"
  }
 },
 "nbformat": 4,
 "nbformat_minor": 2
}
