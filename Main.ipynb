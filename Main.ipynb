{
 "cells": [
  {
   "cell_type": "markdown",
   "metadata": {},
   "source": [
    "# Introduction\n"
   ]
  },
  {
   "cell_type": "markdown",
   "metadata": {},
   "source": [
    "## Problem statement\n"
   ]
  },
  {
   "cell_type": "markdown",
   "metadata": {},
   "source": [
    "Singlife has observed a concerning trend in the customer journey: potential policyholders are expressing hesitation and eventual disengagement during the insurance acquisition process. To address this, Singlife seeks to leverage its dataset. The objective is to <font size=\"4\">**derive actionable insights from this data to enhance the customer experience**</font>. The challenge is to dissect the dataset to <font size=\"4\">**uncover the critical touchpoints that contribute to customer drop-off and identify opportunities to streamline the application process and personalize communication**</font>. The ultimate goal is to <font size=\"4\">**predict customer satisfaction and conversion rates, thereby bolstering Singlife's market position**</font>.\n"
   ]
  },
  {
   "cell_type": "markdown",
   "metadata": {},
   "source": [
    "## Selected variables\n"
   ]
  },
  {
   "cell_type": "markdown",
   "metadata": {},
   "source": [
    "<strong><h5>1. General Client Information</h5></strong>\n",
    "\n",
    "1. `clntnum`\n",
    "2. `ctrycode_desc`\n",
    "3. `stat_flag`\n",
    "4. `min_occ_date`\n",
    "5. `cltdob_fix`\n",
    "6. `cltsex_fix`\n",
    "7. `cltage` (Age of client)\n",
    "8. `clt_ten` (Customer tenure)\n",
    "\n",
    "<strong><h5>2. Client Risk and Status Indicators</h5></strong>\n",
    "\n",
    "1. `flg_substandard`\n",
    "2. `flg_is_borderline_standard`\n",
    "3. `flg_is_revised_term`\n",
    "4. `flg_has_health_claim`\n",
    "5. `flg_gi_claim`\n",
    "6. `flg_is_proposal`\n",
    "\n",
    "<strong><h5>3. Demographic and Household Information</h5></strong>\n",
    "\n",
    "1. `is_dependent_in_at_least_1_policy`\n",
    "2. `annual_income_est`\n",
    "\n",
    "<strong><h5>4. Policy and claim history</h5></strong>\n",
    "\n",
    "1. `tot_inforce_pols`, `tot_cancel_pols`\n",
    "2. `f_ever_declined_la`\n",
    "\n",
    "<strong><h5>5. Target Column</h5></strong>\n",
    "\n",
    "1. `f_purchase_lh` (Indicates if customer will purchase insurance in the next 3 months)\n"
   ]
  },
  {
   "cell_type": "markdown",
   "metadata": {},
   "source": [
    "# Code\n"
   ]
  },
  {
   "cell_type": "markdown",
   "metadata": {},
   "source": [
    "## Data cleaning\n"
   ]
  },
  {
   "cell_type": "code",
   "execution_count": 18,
   "metadata": {},
   "outputs": [
    {
     "name": "stdout",
     "output_type": "stream",
     "text": [
      "Current Working Directory: /Users/swislar/Desktop\n"
     ]
    }
   ],
   "source": [
    "# %pip install pyarrow\n",
    "# %pip install scikit-learn\n",
    "import numpy as np\n",
    "import pandas as pd\n",
    "import matplotlib.pyplot as plt\n",
    "import seaborn as sns\n",
    "import tensorflow as tf\n",
    "from sklearn.impute import KNNImputer\n",
    "from sklearn.preprocessing import OrdinalEncoder, LabelEncoder\n",
    "from imblearn.over_sampling import SMOTE\n",
    "from sklearn.feature_selection import VarianceThreshold\n",
    "import pyarrow\n",
    "import os\n",
    "from datetime import datetime\n",
    "currWD = os.getcwd()\n",
    "print(\"Current Working Directory:\", currWD)\n",
    "# os.chdir(\"Set WD here\")\n",
    "os.chdir(\"/Users/swislar/Desktop\")\n",
    "filepath = \"./data/catB_train.parquet\"\n",
    "data = pd.read_parquet(filepath, engine='pyarrow')"
   ]
  },
  {
   "cell_type": "code",
   "execution_count": 19,
   "metadata": {},
   "outputs": [],
   "source": [
    "# Adding cltage and clt_ten cols\n",
    "# Drop rows with incomplete data for `cltdob_fix`\n",
    "data['cltdob_fix'] = data['cltdob_fix'].replace(\"None\", pd.NaT)\n",
    "data = data.dropna(subset=['cltdob_fix'])\n",
    "# Drop rows with incomplete data for `min_occ_date`\n",
    "data['min_occ_date'] = data['min_occ_date'].replace(\"None\", pd.NaT)\n",
    "data = data.dropna(subset=['min_occ_date'])\n",
    "\n",
    "# Convert cltdob_fix to datetime format and compute the client's age\n",
    "currentDate = datetime.now()\n",
    "data[\"cltdob_fix\"] = data[\"cltdob_fix\"].map(\n",
    "    lambda x: datetime.strptime(x, \"%Y-%m-%d\"))\n",
    "data[\"cltage\"] = data[\"cltdob_fix\"].map(\n",
    "    lambda x: ((currentDate - x).days/365.25))\n",
    "# Convert min_occ_date to datetime format and compute cltage_start\n",
    "data[\"min_occ_date\"] = data[\"min_occ_date\"].map(\n",
    "    lambda x: datetime.strptime(x, \"%Y-%m-%d\"))\n",
    "data[\"cltage_start\"] = (\n",
    "    (data[\"min_occ_date\"] - data[\"cltdob_fix\"]).dt.days/365.25).round().astype(int)\n",
    "\n",
    "# Computing the customer tenure\n",
    "data[\"clt_ten\"] = data[\"cltage\"] - data[\"cltage_start\"]\n",
    "# Filtering columns\n",
    "columnNames = [\"clntnum\", \"ctrycode_desc\", \"stat_flag\", \"min_occ_date\", \"cltdob_fix\", \"cltsex_fix\", \"cltage\", \"clt_ten\",\n",
    "               \"flg_substandard\", \"flg_is_borderline_standard\", \"flg_is_revised_term\", \"flg_has_health_claim\", \"flg_gi_claim\", \"flg_is_proposal\",\n",
    "               \"is_dependent_in_at_least_1_policy\", \"annual_income_est\", \"tot_inforce_pols\", \"tot_cancel_pols\", \"f_ever_declined_la\",\n",
    "               \"f_purchase_lh\"]\n",
    "data = data.loc[:, columnNames]"
   ]
  }
 ],
 "metadata": {
  "kernelspec": {
   "display_name": "Python 3",
   "language": "python",
   "name": "python3"
  },
  "language_info": {
   "codemirror_mode": {
    "name": "ipython",
    "version": 3
   },
   "file_extension": ".py",
   "mimetype": "text/x-python",
   "name": "python",
   "nbconvert_exporter": "python",
   "pygments_lexer": "ipython3",
   "version": "3.10.8"
  }
 },
 "nbformat": 4,
 "nbformat_minor": 2
}
